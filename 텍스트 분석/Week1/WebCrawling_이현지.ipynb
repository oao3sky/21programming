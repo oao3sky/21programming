{
 "cells": [
  {
   "cell_type": "code",
   "execution_count": 1,
   "metadata": {},
   "outputs": [],
   "source": [
    "from bs4 import BeautifulSoup\n",
    "import requests"
   ]
  },
  {
   "cell_type": "code",
   "execution_count": 2,
   "metadata": {},
   "outputs": [],
   "source": [
    "url = 'https://www.rottentomatoes.com/m/la_la_land/reviews'\n",
    "res = requests.get(url)\n",
    "source = BeautifulSoup(res.text,'html.parser')"
   ]
  },
  {
   "cell_type": "code",
   "execution_count": 3,
   "metadata": {},
   "outputs": [],
   "source": [
    "review_only = source.find_all('div',{'class':\"the_review\"})"
   ]
  },
  {
   "cell_type": "code",
   "execution_count": 4,
   "metadata": {},
   "outputs": [
    {
     "data": {
      "text/plain": [
       "<div class=\"the_review\" data-qa=\"review-text\">\n",
       "                    It has a powerful message that lifts you from your chair, pulls you by the ears and forces you to continue with the task of fulfilling your dream. [Full review in Spanish]\n",
       "                </div>"
      ]
     },
     "execution_count": 4,
     "metadata": {},
     "output_type": "execute_result"
    }
   ],
   "source": [
    "review_only[6]"
   ]
  },
  {
   "cell_type": "code",
   "execution_count": 5,
   "metadata": {},
   "outputs": [
    {
     "name": "stdout",
     "output_type": "stream",
     "text": [
      "La La Land is a lovely, pleasing, and showstopping movie that should be watched on the biggest screen, loudest sound, and brightest colors as possible.\n",
      "A celebration of music and magic, where swelling emotions are captured by somber yet jazzy leitmotifs.\n",
      "Features a career best performance from Emma Stone.\n",
      "La La Land 's biggest failing is its complacency...\n",
      "The clash of styles and ideas are collectively embraced. It's the balance of cheese meets whimsical. Romance meets heartbreak. An old tradition meets modern ways. A sincere heart meets good fun - and La La Land completely owns it, in its own magical way\n",
      "It basks in the wonder and excitement of young love, the optimism of the dreamer, the nostalgia of classic Hollywood, and the emotion of musical fantasy.\n",
      "It has a powerful message that lifts you from your chair, pulls you by the ears and forces you to continue with the task of fulfilling your dream. [Full review in Spanish]\n",
      "Pairing a filmmaker with maybe the best sense of cinematic rhythm working today with elaborate choreography, old Hollywood style musical arrangements, and two of the industry's most charming performers is a stroke of enchanting genius.\n",
      "The meta qualities of La La Land, which have led many to call it a love letter to classic musical films, owe a great deal to this [atmospheric framing] device.\n",
      "Its charm tells us that the magic of musicals is still more alive than ever. [Full review in Spanish]\n",
      "An engaging tussle, an original vision and a wonderful reboot of the Golden Age of Tinseltown musicals.\n",
      "I have so many feelings about how much I hated this movie.\n",
      "It was a pretentious waste of my time.\n",
      "If La La Land brings the genre back to vitality, I'll rejoice. But while much of this movie is clever and enjoyable, I can't say I found it exciting.\n",
      "It's exquisite, unforgettable, and utterly heartbreaking.\n",
      "Damien Chazelle has clearly established himself as one of today's great genre directors in all things musical.\n",
      "Do yourself a favor and catch La La Land. It's a necessary reminder that romance, triumph, and hope don't just exist in the movies.\n",
      "La La Land is visually stunning and goes from feat to feat (the opening sequence set on a freeway is one for the books), yet it remains profoundly human.\n",
      "It'll have your heart aching with joy and yearning; its tunes will linger in your brain and hopefully weave a little bit of its magic into your life. Falling in love with it is inevitable.\n",
      "An up-beat, enchanting, classic musical...\n"
     ]
    }
   ],
   "source": [
    "for review in review_only:\n",
    "    print(review.get_text().strip())"
   ]
  },
  {
   "cell_type": "markdown",
   "metadata": {},
   "source": [
    "https://www.rottentomatoes.com/m/la_la_land/reviews?type=&sort=&page=1\n",
    "https://www.rottentomatoes.com/m/la_la_land/reviews?type=&sort=&page=2"
   ]
  },
  {
   "cell_type": "code",
   "execution_count": 6,
   "metadata": {},
   "outputs": [
    {
     "name": "stdout",
     "output_type": "stream",
     "text": [
      "종료\n"
     ]
    }
   ],
   "source": [
    "base_url = 'https://www.rottentomatoes.com/m/la_la_land/reviews?type=&sort=&page={}'\n",
    "comment_list=[]\n",
    "\n",
    "import time\n",
    "import random\n",
    "\n",
    "for page in range(1,23):\n",
    "    url = base_url.format(page)\n",
    "    res = requests.get(url)\n",
    "    \n",
    "    soup = BeautifulSoup(res.text,'lxml')\n",
    "    tds = soup.select('div.row review_table_row')\n",
    "    \n",
    "    for td in tds:\n",
    "        critic_name = td.find('div.col-sm-17 col-xs-32 critic_name').text.strip()\n",
    "        score = td.select_one('div.small subtle review-link > Original Score').text.strip()\n",
    "        comment = td.select_one('div.the_review').text.strip()\n",
    "        comment_list.append((critic_name,score,comment))\n",
    "        \n",
    "    interval = round(random.uniform(0.2,1),2)\n",
    "    time.sleep(interval)\n",
    "    \n",
    "print('종료')"
   ]
  },
  {
   "cell_type": "code",
   "execution_count": 7,
   "metadata": {},
   "outputs": [],
   "source": [
    "import pandas as pd"
   ]
  },
  {
   "cell_type": "code",
   "execution_count": 8,
   "metadata": {},
   "outputs": [],
   "source": [
    "df = pd.DataFrame(comment_list, columns=['비평가','평점','리뷰'])\n",
    "df.to_csv('rotten_tomato.csv', index=False)"
   ]
  },
  {
   "cell_type": "code",
   "execution_count": 9,
   "metadata": {},
   "outputs": [
    {
     "data": {
      "text/html": [
       "<div>\n",
       "<style scoped>\n",
       "    .dataframe tbody tr th:only-of-type {\n",
       "        vertical-align: middle;\n",
       "    }\n",
       "\n",
       "    .dataframe tbody tr th {\n",
       "        vertical-align: top;\n",
       "    }\n",
       "\n",
       "    .dataframe thead th {\n",
       "        text-align: right;\n",
       "    }\n",
       "</style>\n",
       "<table border=\"1\" class=\"dataframe\">\n",
       "  <thead>\n",
       "    <tr style=\"text-align: right;\">\n",
       "      <th></th>\n",
       "      <th>비평가</th>\n",
       "      <th>평점</th>\n",
       "      <th>리뷰</th>\n",
       "    </tr>\n",
       "  </thead>\n",
       "  <tbody>\n",
       "  </tbody>\n",
       "</table>\n",
       "</div>"
      ],
      "text/plain": [
       "Empty DataFrame\n",
       "Columns: [비평가, 평점, 리뷰]\n",
       "Index: []"
      ]
     },
     "execution_count": 9,
     "metadata": {},
     "output_type": "execute_result"
    }
   ],
   "source": [
    "df"
   ]
  },
  {
   "cell_type": "code",
   "execution_count": null,
   "metadata": {},
   "outputs": [],
   "source": []
  }
 ],
 "metadata": {
  "kernelspec": {
   "display_name": "Python 3",
   "language": "python",
   "name": "python3"
  },
  "language_info": {
   "codemirror_mode": {
    "name": "ipython",
    "version": 3
   },
   "file_extension": ".py",
   "mimetype": "text/x-python",
   "name": "python",
   "nbconvert_exporter": "python",
   "pygments_lexer": "ipython3",
   "version": "3.8.5"
  }
 },
 "nbformat": 4,
 "nbformat_minor": 4
}
